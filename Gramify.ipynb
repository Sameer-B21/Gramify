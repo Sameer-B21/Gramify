{
  "cells": [
    {
      "cell_type": "markdown",
      "metadata": {
        "id": "view-in-github",
        "colab_type": "text"
      },
      "source": [
        "<a href=\"https://colab.research.google.com/github/Sameer-B21/Gramify/blob/main/Gramify.ipynb\" target=\"_parent\"><img src=\"https://colab.research.google.com/assets/colab-badge.svg\" alt=\"Open In Colab\"/></a>"
      ]
    },
    {
      "cell_type": "markdown",
      "source": [
        "**Welcome to Gramify - A hub for accessing hidden instagram features easily just with a few clicks!**"
      ],
      "metadata": {
        "id": "rq4356M43XHa"
      }
    },
    {
      "cell_type": "markdown",
      "source": [
        "**STEP 1:** Initialize the program by installing and importing the nessecary programs"
      ],
      "metadata": {
        "id": "7uP2wa3gxM9b"
      }
    },
    {
      "cell_type": "code",
      "execution_count": null,
      "metadata": {
        "id": "44Hx0bzJ2f4q"
      },
      "outputs": [],
      "source": [
        "pip install instaloader"
      ]
    },
    {
      "cell_type": "code",
      "execution_count": null,
      "metadata": {
        "id": "jaQ0dwbT2wmY"
      },
      "outputs": [],
      "source": [
        "from instaloader import instaloader, Profile"
      ]
    },
    {
      "cell_type": "markdown",
      "source": [
        "**STEP 2:** Enter your username and password as specified to log into your account. NOTE: if two-factor authentication is enabled, you must also enter the authentication code as specified."
      ],
      "metadata": {
        "id": "SVWmLS5AxkLk"
      }
    },
    {
      "cell_type": "code",
      "execution_count": null,
      "metadata": {
        "id": "suBviM0QIFUh"
      },
      "outputs": [],
      "source": [
        "# Create an instance of Instaloader\n",
        "L = instaloader.Instaloader()\n",
        "#enter your username and password\n",
        "try:\n",
        "  L.login(\"username\", \"password\")\n",
        "except:#enter your two-factor authentication code if applicable\n",
        "  L.two_factor_login()"
      ]
    },
    {
      "cell_type": "markdown",
      "source": [
        "**STEP 3:** Enter the username of the account that you want to extract information from. NOTE: The account must be public, must be followed by your account, or must be your own account."
      ],
      "metadata": {
        "id": "i4LmjvCUyGbY"
      }
    },
    {
      "cell_type": "code",
      "execution_count": null,
      "metadata": {
        "id": "7jfQ_nXoCc0r"
      },
      "outputs": [],
      "source": [
        "# Get the profile of the account you want to check (Must be following the account if its private.)\n",
        "profile = instaloader.Profile.from_username(L.context, \"target username\")"
      ]
    },
    {
      "cell_type": "markdown",
      "source": [
        "**Cleaning and balancing the account followers:**\n",
        "Run the following pieces of code to retreive a list of accounts that you follow that don't follow you back."
      ],
      "metadata": {
        "id": "W-NvA5VyyeKU"
      }
    },
    {
      "cell_type": "code",
      "execution_count": null,
      "metadata": {
        "id": "cPPNzvw521b_"
      },
      "outputs": [],
      "source": [
        "# Retrieve the followings\n",
        "followees = profile.get_followees()\n",
        "y = []\n",
        "# save the list\n",
        "for f in followees:\n",
        "  y.append(str(f.username))"
      ]
    },
    {
      "cell_type": "code",
      "execution_count": null,
      "metadata": {
        "id": "QAAw1rjyFrMD"
      },
      "outputs": [],
      "source": [
        "# Retreive the followers\n",
        "followers = profile.get_followers()\n",
        "x = []\n",
        "for follower in followers:\n",
        "  x.append(str(follower.username))"
      ]
    },
    {
      "cell_type": "code",
      "execution_count": null,
      "metadata": {
        "id": "LS6dmzTEG9yT"
      },
      "outputs": [],
      "source": [
        "a = 0\n",
        "print(\"The people that do not follow you back are: \")\n",
        "#check for people that don't follow back\n",
        "for n in y:\n",
        "  if n not in x:\n",
        "    print(n)\n",
        "    a+=1\n",
        "print (f\"You follow {a} people that do not follow you back.\")"
      ]
    },
    {
      "cell_type": "markdown",
      "source": [
        "**Ghost Followers** - Run the following to retrieve a list of the followers who least insteract with your content/posts."
      ],
      "metadata": {
        "id": "6oOy2ZS3LYtW"
      }
    },
    {
      "cell_type": "code",
      "source": [
        "likes = []\n",
        "print(\"Fetching likes of all posts of profile {}.\".format(profile.username))\n",
        "for post in profile.get_posts():\n",
        "    print(post)\n",
        "    likes.append(post.get_likes())"
      ],
      "metadata": {
        "id": "Y_yFuO9cLRH7"
      },
      "execution_count": null,
      "outputs": []
    },
    {
      "cell_type": "code",
      "source": [
        "for f in followers:\n",
        "  if f not in likes:\n",
        "    print(f.username)"
      ],
      "metadata": {
        "id": "umvU7julLSVI"
      },
      "execution_count": null,
      "outputs": []
    }
  ],
  "metadata": {
    "colab": {
      "provenance": [],
      "authorship_tag": "ABX9TyPYUzZEmhwu0Ts2VgXqvKzy",
      "include_colab_link": true
    },
    "kernelspec": {
      "display_name": "Python 3",
      "name": "python3"
    },
    "language_info": {
      "name": "python"
    }
  },
  "nbformat": 4,
  "nbformat_minor": 0
}